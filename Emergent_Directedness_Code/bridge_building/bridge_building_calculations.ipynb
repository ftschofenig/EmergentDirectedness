{
 "cells": [
  {
   "cell_type": "code",
   "execution_count": null,
   "metadata": {},
   "outputs": [],
   "source": [
    "import networkx as nx\n",
    "import random\n",
    "import matplotlib.pyplot as plt\n",
    "import networkx as nx\n",
    "from matplotlib.animation import FuncAnimation\n",
    "from tqdm import tqdm_notebook as tqdm\n",
    "from matplotlib.patches import Patch\n",
    "\n",
    "import networkx as nx\n",
    "import numpy as np\n",
    "import matplotlib.pyplot as plt\n",
    "from tqdm import tqdm\n",
    "from pathos.multiprocessing import ProcessingPool as Pool\n",
    "import pandas as pd\n",
    "import seaborn as sns\n",
    "import random\n",
    "from itertools import product\n",
    "import plotly.graph_objects as go\n",
    "from itertools import chain\n",
    "\n",
    "from joblib import Parallel, delayed\n",
    "import random\n",
    "from joblib import dump\n",
    "\n",
    "\n",
    "import sys\n",
    "import os\n",
    "\n",
    "sys.path.append(os.path.abspath(os.path.join(os.getcwd(), \"../\")))\n",
    "import CPC_package as CPC\n",
    "%matplotlib inline\n",
    "\n",
    "import sys\n",
    "import os"
   ]
  },
  {
   "cell_type": "markdown",
   "metadata": {},
   "source": [
    "# Is is more symmetric or asymmetric to build bridges"
   ]
  },
  {
   "cell_type": "code",
   "execution_count": 16,
   "metadata": {},
   "outputs": [],
   "source": [
    "def add_prefix(node, prefix):\n",
    "    return f\"{prefix}_{node}\"\n",
    "\n",
    "def plot_the_graphs(graph, pos):\n",
    "    plt.figure(figsize=(10, 10))\n",
    "    nx.draw(graph, pos, node_size=20)\n",
    "    plt.show()\n",
    "\n",
    "\n",
    "def checkFlowFromAtoB(graph):\n",
    "    handler = CPC.CpcHandler(graph.copy(), cores=10, seed_function=CPC.randomFactorSeed)\n",
    "    handler.setPortion(portion=0.05)\n",
    "    handler.number_of_seeds = 10*graph.number_of_nodes()\n",
    "    handler.setRandomFactor(0)\n",
    "    handler.to_dict_representation()\n",
    "    handler.setThresholds(2)\n",
    "    \n",
    "    #get the list of nodes in graph_A\n",
    "    nodes_A = [node for node in graph.nodes() if node.startswith('A')]\n",
    "\n",
    "    sd, activatedNodes = handler.makeSingleSpread(set(nodes_A))\n",
    "\n",
    "    return sd, activatedNodes\n",
    "\n",
    "def checkFlowFromBtoA(graph):\n",
    "    handler = CPC.CpcHandler(graph.copy(), cores=10, seed_function=CPC.randomFactorSeed)\n",
    "    handler.setPortion(portion=0.05)\n",
    "    handler.number_of_seeds = 10*graph.number_of_nodes()\n",
    "    handler.setRandomFactor(0)\n",
    "    handler.to_dict_representation()\n",
    "    handler.setThresholds(2)\n",
    "    \n",
    "    #get the list of nodes in graph_A\n",
    "    nodes_B= [node for node in graph.nodes() if node.startswith('B')]\n",
    "\n",
    "    sd, activatedNodes = handler.makeSingleSpread(set(nodes_B))\n",
    "\n",
    "    return sd, activatedNodes\n",
    "\n",
    "def addRandomTieBetweenGraphs(graph):\n",
    "    #get the nodes of graph_A and graph_B\n",
    "    nodes_A = [node for node in graph.nodes() if node.startswith('A')]\n",
    "    nodes_B = [node for node in graph.nodes() if node.startswith('B')]\n",
    "\n",
    "    success = False\n",
    "\n",
    "    while not success:\n",
    "        #pick a random node from graph_A and graph_B\n",
    "        node_A = random.choice(nodes_A)\n",
    "        node_B = random.choice(nodes_B)\n",
    "\n",
    "        #check if there is already a tie between the two nodes\n",
    "        if not graph.has_edge(node_A, node_B):\n",
    "            success = True\n",
    "            #add a tie between the two nodes\n",
    "            graph.add_edge(node_A, node_B)\n",
    "\n",
    "    return graph\n",
    "\n",
    "def getGraph():\n",
    "    N, k, beta = 100, 6, 0.1\n",
    "    #create a WS graph\n",
    "    graph_A = nx.watts_strogatz_graph(N, k, beta)\n",
    "    graph_B = nx.watts_strogatz_graph(N, k, beta)\n",
    "    #relabel all graphs in graph_A by adding the prefix 'A' to the node label\n",
    "    graph_A = nx.relabel_nodes(graph_A, lambda node: add_prefix(node, 'A'))\n",
    "    #relabel all graphs in graph_B by adding the prefix 'B' to the node label\n",
    "    graph_B = nx.relabel_nodes(graph_B, lambda node: add_prefix(node, 'B'))\n",
    "\n",
    "    #calculate the position of the nodes in the graph_A and graph_B\n",
    "    pos_A = nx.kamada_kawai_layout(graph_A)\n",
    "    pos_B = nx.kamada_kawai_layout(graph_B)\n",
    "    #move the nodes of graph_B to the right\n",
    "    for node in pos_B:\n",
    "        pos_B[node][0] += 3\n",
    "\n",
    "    #merge the positions of graph_A and graph_B\n",
    "    pos = {}\n",
    "    pos.update(pos_A)\n",
    "    pos.update(pos_B)\n",
    "\n",
    "    #merge the graphs into one graph\n",
    "    graph = nx.compose(graph_A, graph_B)\n",
    "    return graph, pos\n",
    "\n",
    "def addTriadicClosureBetweenGraphs(graph):\n",
    "    #get the nodes of graph_A and graph_B\n",
    "    nodes_A = [node for node in graph.nodes() if node.startswith('A')]\n",
    "    nodes_B = [node for node in graph.nodes() if node.startswith('B')]\n",
    "\n",
    "    success = False\n",
    "\n",
    "    while not success:\n",
    "        #pick a random node from graph_A and graph_B\n",
    "        node_A = random.choice(nodes_A)\n",
    "        node_B = random.choice(nodes_B)\n",
    "\n",
    "        #check if there is already a tie between the two nodes\n",
    "        if graph.has_edge(node_A, node_B):\n",
    "            if random.random() < 0.5:\n",
    "                #make closure from A to neib of B\n",
    "                #pick a random neighbor of node_B\n",
    "                neighbor_B = random.choice(list(graph.neighbors(node_B)))\n",
    "                #check if there is already a tie between node_A and neighbor_B\n",
    "                if not graph.has_edge(node_A, neighbor_B) and node_A != neighbor_B:\n",
    "                    done = True\n",
    "                    #add a tie between the two nodes\n",
    "                    graph.add_edge(node_A, neighbor_B)\n",
    "                    success = True\n",
    "            else:\n",
    "                #make closure from B to neib of A\n",
    "                #pick a random neighbor of node_A\n",
    "                neighbor_A = random.choice(list(graph.neighbors(node_A)))\n",
    "                #check if there is already a tie between node_B and neighbor_A\n",
    "                if not graph.has_edge(node_B, neighbor_A) and node_B != neighbor_A:\n",
    "                    #add a tie between the two nodes\n",
    "                    graph.add_edge(node_B, neighbor_A)\n",
    "                    success = True\n",
    "            #add a tie between the two nodes\n",
    "            graph.add_edge(node_A, node_B)\n",
    "\n",
    "    return graph"
   ]
  },
  {
   "cell_type": "markdown",
   "metadata": {},
   "source": [
    "# Bridge formation triadic closure"
   ]
  },
  {
   "cell_type": "code",
   "execution_count": 17,
   "metadata": {},
   "outputs": [],
   "source": [
    "prob_for_triadic_closure = [0, 0.2, 0.4, 0.6, 0.8, 1.0]"
   ]
  },
  {
   "cell_type": "code",
   "execution_count": null,
   "metadata": {},
   "outputs": [
    {
     "name": "stderr",
     "output_type": "stream",
     "text": [
      "Probability for Triadic Closure: 100%|██████████| 6/6 [04:50<00:00, 48.50s/it]\n"
     ]
    }
   ],
   "source": [
    "def run_simulation(p, i):\n",
    "    random.seed(int(i))\n",
    "    graph, pos = getGraph()\n",
    "    sd_AtoB, activatedNodes_AtoB = checkFlowFromAtoB(graph)\n",
    "    sd_BtoA, activatedNodes_BtoA = checkFlowFromBtoA(graph)\n",
    "    local_results = []\n",
    "    counter = 0\n",
    "    while counter < 40:\n",
    "        counter += 1\n",
    "        if counter == 1 or random.random() >= p:\n",
    "            graph = addRandomTieBetweenGraphs(graph)\n",
    "        else:\n",
    "            graph = addTriadicClosureBetweenGraphs(graph)\n",
    "        sd_AtoB, activatedNodes_AtoB = checkFlowFromAtoB(graph)\n",
    "        sd_BtoA, activatedNodes_BtoA = checkFlowFromBtoA(graph)\n",
    "\n",
    "        if sd_AtoB < 1:\n",
    "            sd_AtoB = 0\n",
    "        if sd_BtoA < 1:\n",
    "            sd_BtoA = 0\n",
    "\n",
    "        local_results.append((p, i, counter, sd_AtoB, sd_BtoA, abs(sd_AtoB - sd_BtoA)))\n",
    "    return local_results\n",
    "\n",
    "results = []\n",
    "for p in tqdm(prob_for_triadic_closure, desc=\"Probability for Triadic Closure\"):\n",
    "    parallel_results = Parallel(n_jobs=-1)(delayed(run_simulation)(p, i) for i in range(1000))\n",
    "    for sublist in parallel_results:\n",
    "        results.extend(sublist)"
   ]
  },
  {
   "cell_type": "code",
   "execution_count": null,
   "metadata": {},
   "outputs": [
    {
     "name": "stdout",
     "output_type": "stream",
     "text": [
      "3\n"
     ]
    }
   ],
   "source": [
    "#create a df from the results\n",
    "df = pd.DataFrame(results, columns=['p','iteration', 'counter', 'sd_AtoB', 'sd_BtoA', 'difference'])\n",
    "#create a column from the sum of sd_AtoB and sd_BtoA\n",
    "df['sum'] = df['sd_AtoB'] + df['sd_BtoA']\n",
    "#what is the minimal counter where the sum is 2\n",
    "min_counter = df[df['sum'] == 2]['counter'].min()\n",
    "print(min_counter)"
   ]
  },
  {
   "cell_type": "code",
   "execution_count": null,
   "metadata": {},
   "outputs": [],
   "source": [
    "#check if there is any iteration that jumped from 0 to 1 in one step and has no other values\n",
    "df = df[(df['sd_AtoB'] == 1) | (df['sd_BtoA'] == 1)]\n",
    "#do a value count grouped by counter and difference and create a new df\n",
    "df_grouped = df.groupby(['counter', 'difference', 'p']).size().reset_index(name='counts')\n",
    "#for each counter calculate the portion of counts where the difference is 0\n",
    "df_grouped['portion'] = df_grouped.groupby(['counter','p'])['counts'].transform(lambda x: x / x.sum())\n",
    "#drop all rows where difference is not 0\n",
    "df_grouped = df_grouped[df_grouped['difference'] == 0]"
   ]
  },
  {
   "cell_type": "code",
   "execution_count": 21,
   "metadata": {},
   "outputs": [
    {
     "data": {
      "text/plain": [
       "['df_random_bridge_building_triadic.joblib']"
      ]
     },
     "execution_count": 21,
     "metadata": {},
     "output_type": "execute_result"
    }
   ],
   "source": [
    "dump(df_grouped, 'df_random_bridge_building_triadic.joblib')"
   ]
  }
 ],
 "metadata": {
  "kernelspec": {
   "display_name": "base",
   "language": "python",
   "name": "python3"
  },
  "language_info": {
   "codemirror_mode": {
    "name": "ipython",
    "version": 3
   },
   "file_extension": ".py",
   "mimetype": "text/x-python",
   "name": "python",
   "nbconvert_exporter": "python",
   "pygments_lexer": "ipython3",
   "version": "3.12.2"
  }
 },
 "nbformat": 4,
 "nbformat_minor": 2
}
